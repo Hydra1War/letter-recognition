{
  "nbformat": 4,
  "nbformat_minor": 0,
  "metadata": {
    "accelerator": "GPU",
    "colab": {
      "name": "Untitled2.ipynb",
      "provenance": [],
      "collapsed_sections": [],
      "mount_file_id": "13zuE6HCg8iDFwJKbkJ9odRaaBHB-mEZD",
      "authorship_tag": "ABX9TyM+YvFExkeJNs5Tuir3ejjT",
      "include_colab_link": true
    },
    "kernelspec": {
      "display_name": "Python 3",
      "name": "python3"
    }
  },
  "cells": [
    {
      "cell_type": "markdown",
      "metadata": {
        "id": "view-in-github",
        "colab_type": "text"
      },
      "source": [
        "<a href=\"https://colab.research.google.com/github/Hydra1War/letter-recognition/blob/main/main_net.ipynb\" target=\"_parent\"><img src=\"https://colab.research.google.com/assets/colab-badge.svg\" alt=\"Open In Colab\"/></a>"
      ]
    },
    {
      "cell_type": "code",
      "metadata": {
        "id": "NMtguTQfz6im"
      },
      "source": [
        "import os\n",
        "import shutil\n",
        "from tqdm.notebook import tqdm\n",
        "from PIL import Image\n",
        "\n",
        "import numpy as np\n",
        "\n",
        "import torch\n",
        "import torch.nn as nn\n",
        "import torch.optim as optim\n",
        "from torch.utils.data import Dataset, DataLoader\n",
        "import os\n",
        "import torchvision.transforms as transforms\n",
        "\n",
        "from sklearn.model_selection import train_test_split\n",
        "\n",
        "from IPython.display import clear_output\n",
        "import seaborn as sns\n",
        "import matplotlib.pyplot as plt\n",
        "from google.colab import drive\n",
        "%matplotlib inline"
      ],
      "execution_count": null,
      "outputs": []
    },
    {
      "cell_type": "code",
      "metadata": {
        "id": "WLjndZSj7dvi"
      },
      "source": [
        "cp /content/drive/MyDrive/archwords1/archwords1.zip /content/"
      ],
      "execution_count": null,
      "outputs": []
    },
    {
      "cell_type": "code",
      "metadata": {
        "id": "tfL_acCjZsmX"
      },
      "source": [
        "!unzip -q /content/archwords1.zip"
      ],
      "execution_count": null,
      "outputs": []
    },
    {
      "cell_type": "code",
      "metadata": {
        "colab": {
          "base_uri": "https://localhost:8080/"
        },
        "id": "cGK_r5FFz_BX",
        "outputId": "c445953d-6193-4b3b-d2b4-977bd9ba3d95"
      },
      "source": [
        "# не выполнять если уже все библиотеки скинуты и распакованы!!!!!!!!!!!!!!!!!!!\n",
        "# А то все крашнется и не будет работать\n",
        "import shutil \n",
        "from tqdm import tqdm\n",
        "import os\n",
        "\n",
        "data_root = '/content/archwords1/train'\n",
        "train_dir = 'train/'\n",
        "test_dir = 'test/'\n",
        "\n",
        "\n",
        "class_names = ['а', 'б', 'в', 'г', 'д', 'е', 'йо', 'ж', 'з', 'и', 'ие', 'к', 'л',\n",
        "               'м', 'н', 'о', 'п', 'р', 'с', 'т','у', 'ф', 'х', 'ч', 'ш', 'щ',\n",
        "               'ъ' ,'ы', 'ь', 'э', 'ю', 'я']\n",
        "\n",
        "\n",
        "for dir_name in [train_dir, test_dir]:\n",
        "    for class_name in class_names:\n",
        "        os.makedirs(os.path.join(dir_name, class_name), exist_ok=True)\n",
        "\n",
        "for class_name in class_names:\n",
        "    source_dir = os.path.join(data_root, class_name)\n",
        "    for i, file_name in enumerate(tqdm(os.listdir(source_dir))):\n",
        "        if i % 6 != 0:\n",
        "            dest_dir = os.path.join(train_dir, class_name) \n",
        "        else:\n",
        "            dest_dir = os.path.join(test_dir, class_name)\n",
        "        shutil.copy(os.path.join(source_dir, file_name), os.path.join(dest_dir, file_name))"
      ],
      "execution_count": null,
      "outputs": [
        {
          "output_type": "stream",
          "text": [
            "100%|██████████| 410/410 [00:00<00:00, 8652.66it/s]\n",
            "100%|██████████| 409/409 [00:00<00:00, 11333.78it/s]\n",
            "100%|██████████| 409/409 [00:00<00:00, 11145.14it/s]\n",
            "100%|██████████| 409/409 [00:00<00:00, 11714.57it/s]\n",
            "100%|██████████| 409/409 [00:00<00:00, 11123.45it/s]\n",
            "100%|██████████| 408/408 [00:00<00:00, 11624.25it/s]\n",
            "100%|██████████| 409/409 [00:00<00:00, 11940.43it/s]\n",
            "100%|██████████| 409/409 [00:00<00:00, 11729.71it/s]\n",
            "100%|██████████| 410/410 [00:00<00:00, 12284.99it/s]\n",
            "100%|██████████| 409/409 [00:00<00:00, 12317.41it/s]\n",
            "100%|██████████| 409/409 [00:00<00:00, 11742.80it/s]\n",
            "100%|██████████| 409/409 [00:00<00:00, 12121.07it/s]\n",
            "100%|██████████| 409/409 [00:00<00:00, 12589.31it/s]\n",
            "100%|██████████| 409/409 [00:00<00:00, 12393.67it/s]\n",
            "100%|██████████| 409/409 [00:00<00:00, 12521.68it/s]\n",
            "100%|██████████| 409/409 [00:00<00:00, 9877.25it/s]\n",
            "100%|██████████| 409/409 [00:00<00:00, 11959.33it/s]\n",
            "100%|██████████| 409/409 [00:00<00:00, 11405.60it/s]\n",
            "100%|██████████| 409/409 [00:00<00:00, 9654.29it/s]\n",
            "100%|██████████| 409/409 [00:00<00:00, 10133.38it/s]\n",
            "100%|██████████| 409/409 [00:00<00:00, 9721.80it/s]\n",
            "100%|██████████| 409/409 [00:00<00:00, 12107.21it/s]\n",
            "100%|██████████| 409/409 [00:00<00:00, 10112.36it/s]\n",
            "100%|██████████| 409/409 [00:00<00:00, 9121.45it/s]\n",
            "100%|██████████| 409/409 [00:00<00:00, 9537.92it/s]\n",
            "100%|██████████| 409/409 [00:00<00:00, 10219.16it/s]\n",
            "100%|██████████| 409/409 [00:00<00:00, 7353.38it/s]\n",
            "100%|██████████| 409/409 [00:00<00:00, 6068.02it/s]\n",
            "100%|██████████| 409/409 [00:00<00:00, 5910.22it/s]\n",
            "100%|██████████| 409/409 [00:00<00:00, 4967.73it/s]\n",
            "100%|██████████| 409/409 [00:00<00:00, 6793.97it/s]\n",
            "100%|██████████| 410/410 [00:00<00:00, 8696.64it/s]\n"
          ],
          "name": "stderr"
        }
      ]
    },
    {
      "cell_type": "code",
      "metadata": {
        "id": "f_bT_Qwl0IQH",
        "colab": {
          "base_uri": "https://localhost:8080/",
          "height": 229
        },
        "outputId": "45ca3bc5-2c69-41b0-8099-3daae9d35553"
      },
      "source": [
        "import torch\n",
        "import numpy as np\n",
        "import torchvision\n",
        "import matplotlib.pyplot as plt\n",
        "import time\n",
        "import copy\n",
        "\n",
        "from torchvision import transforms, models\n",
        "train_transforms = transforms.Compose([\n",
        "    transforms.RandomResizedCrop(224),\n",
        "    transforms.RandomHorizontalFlip(p=0.5),\n",
        "    #torchvision.transforms.RandomRotation(30),\n",
        "    #torchvision.transforms.RandomVerticalFlip(p=0.5),\n",
        "    torchvision.transforms.Grayscale(num_output_channels=3),\n",
        "    torchvision.transforms.GaussianBlur(kernel_size=23),\n",
        "    #torchvision.transforms.RandomErasing(p=0.5, scale=(0.02, 0.03), ratio=(0.3, 0.3), value=0, inplace=False),\n",
        "    transforms.ToTensor(),\n",
        "    transforms.Normalize([0.485, 0.456, 0.406], [0.229, 0.224, 0.225])\n",
        "])\n",
        "\n",
        "val_transforms = transforms.Compose([\n",
        "    transforms.Resize((224, 224)),\n",
        "    transforms.ToTensor(),\n",
        "    transforms.Normalize([0.485, 0.456, 0.406], [0.229, 0.224, 0.225])\n",
        "])\n",
        "\n",
        "train_dataset = torchvision.datasets.ImageFolder(train_dir, train_transforms)\n",
        "val_dataset = torchvision.datasets.ImageFolder(test_dir, val_transforms)\n",
        "\n",
        "batch_size = 64\n",
        "train_dataloader = torch.utils.data.DataLoader(\n",
        "    train_dataset, batch_size=batch_size, shuffle=True, num_workers=batch_size)\n",
        "val_dataloader = torch.utils.data.DataLoader(\n",
        "    val_dataset, batch_size=batch_size, shuffle=True, num_workers=batch_size)"
      ],
      "execution_count": null,
      "outputs": [
        {
          "output_type": "error",
          "ename": "NameError",
          "evalue": "ignored",
          "traceback": [
            "\u001b[0;31m---------------------------------------------------------------------------\u001b[0m",
            "\u001b[0;31mNameError\u001b[0m                                 Traceback (most recent call last)",
            "\u001b[0;32m<ipython-input-1-aa2b925ed394>\u001b[0m in \u001b[0;36m<module>\u001b[0;34m()\u001b[0m\n\u001b[1;32m     25\u001b[0m ])\n\u001b[1;32m     26\u001b[0m \u001b[0;34m\u001b[0m\u001b[0m\n\u001b[0;32m---> 27\u001b[0;31m \u001b[0mtrain_dataset\u001b[0m \u001b[0;34m=\u001b[0m \u001b[0mtorchvision\u001b[0m\u001b[0;34m.\u001b[0m\u001b[0mdatasets\u001b[0m\u001b[0;34m.\u001b[0m\u001b[0mImageFolder\u001b[0m\u001b[0;34m(\u001b[0m\u001b[0mtrain_dir\u001b[0m\u001b[0;34m,\u001b[0m \u001b[0mtrain_transforms\u001b[0m\u001b[0;34m)\u001b[0m\u001b[0;34m\u001b[0m\u001b[0;34m\u001b[0m\u001b[0m\n\u001b[0m\u001b[1;32m     28\u001b[0m \u001b[0mval_dataset\u001b[0m \u001b[0;34m=\u001b[0m \u001b[0mtorchvision\u001b[0m\u001b[0;34m.\u001b[0m\u001b[0mdatasets\u001b[0m\u001b[0;34m.\u001b[0m\u001b[0mImageFolder\u001b[0m\u001b[0;34m(\u001b[0m\u001b[0mtest_dir\u001b[0m\u001b[0;34m,\u001b[0m \u001b[0mval_transforms\u001b[0m\u001b[0;34m)\u001b[0m\u001b[0;34m\u001b[0m\u001b[0;34m\u001b[0m\u001b[0m\n\u001b[1;32m     29\u001b[0m \u001b[0;34m\u001b[0m\u001b[0m\n",
            "\u001b[0;31mNameError\u001b[0m: name 'train_dir' is not defined"
          ]
        }
      ]
    },
    {
      "cell_type": "code",
      "metadata": {
        "colab": {
          "base_uri": "https://localhost:8080/"
        },
        "id": "Jh-BxC3-0Nae",
        "outputId": "4e90556a-6b32-40f0-e16d-b6a243107a86"
      },
      "source": [
        "len(train_dataloader), len(train_dataset)"
      ],
      "execution_count": null,
      "outputs": [
        {
          "output_type": "execute_result",
          "data": {
            "text/plain": [
              "(171, 10883)"
            ]
          },
          "metadata": {
            "tags": []
          },
          "execution_count": 24
        }
      ]
    },
    {
      "cell_type": "code",
      "metadata": {
        "id": "5NHTyvbq0O5g"
      },
      "source": [
        "def train_model(model, loss, optimizer, scheduler, num_epochs):\n",
        "    for epoch in range(num_epochs):\n",
        "        print('Epoch {}/{}:'.format(epoch, num_epochs - 1), flush=True)\n",
        "\n",
        "        # Each epoch has a training and validation phase\n",
        "        for phase in ['train', 'test']:\n",
        "            if phase == 'train':\n",
        "                dataloader = train_dataloader\n",
        "                scheduler.step()\n",
        "                model.train()  # Set model to training mode\n",
        "            else:\n",
        "                dataloader = val_dataloader\n",
        "                model.eval()   # Set model to evaluate mode\n",
        "\n",
        "            running_loss = 0.\n",
        "            running_acc = 0.\n",
        "\n",
        "            # Iterate over data.\n",
        "            for inputs, labels in tqdm(dataloader):\n",
        "                inputs = inputs.to(device)\n",
        "                labels = labels.to(device)\n",
        "\n",
        "                optimizer.zero_grad()\n",
        "\n",
        "                # forward and backward\n",
        "                with torch.set_grad_enabled(phase == 'train'):\n",
        "                    preds = model(inputs)\n",
        "                    loss_value = loss(preds, labels)\n",
        "                    preds_class = preds.argmax(dim=1)\n",
        "\n",
        "                    # backward + optimize only if in training phase\n",
        "                    if phase == 'train':\n",
        "                        loss_value.backward()\n",
        "                        optimizer.step()\n",
        "\n",
        "                # statistics\n",
        "                running_loss += loss_value.item()\n",
        "                running_acc += (preds_class == labels.data).float().mean()\n",
        "\n",
        "            epoch_loss = running_loss / len(dataloader)\n",
        "            epoch_acc = running_acc / len(dataloader)\n",
        "\n",
        "            print('{} Loss: {:.4f} Acc: {:.4f}'.format(phase, epoch_loss, epoch_acc), flush=True)\n",
        "        #print(epoch_loss)\n",
        "    return model"
      ],
      "execution_count": null,
      "outputs": []
    },
    {
      "cell_type": "code",
      "metadata": {
        "id": "lryMI-Kc0RDW"
      },
      "source": [
        "model = models.resnet18(pretrained=True)\n",
        "\n",
        "for param in model.parameters():\n",
        "    param.requires_grad = False\n",
        "\n",
        "model.fc = torch.nn.Linear(model.fc.in_features, len(class_names))\n",
        "\n",
        "device = torch.device(\"cuda:0\" if torch.cuda.is_available() else \"cpu\")\n",
        "model = model.to(device)\n",
        "\n",
        "loss = torch.nn.CrossEntropyLoss()\n",
        "optimizer = torch.optim.Adam(model.parameters(), lr=1.0e-3)\n",
        "\n",
        "scheduler = torch.optim.lr_scheduler.StepLR(optimizer, step_size=7, gamma=0.1)"
      ],
      "execution_count": null,
      "outputs": []
    },
    {
      "cell_type": "code",
      "metadata": {
        "colab": {
          "background_save": true,
          "base_uri": "https://localhost:8080/"
        },
        "id": "5mlfPWdK0S79",
        "outputId": "9952f7a5-7eaa-42f2-f02c-fcecbefe7b46"
      },
      "source": [
        "train_model(model, loss, optimizer, scheduler, num_epochs=60);"
      ],
      "execution_count": null,
      "outputs": [
        {
          "output_type": "stream",
          "text": [
            "Epoch 0/59:\n"
          ],
          "name": "stdout"
        },
        {
          "output_type": "stream",
          "text": [
            "/usr/local/lib/python3.6/dist-packages/torch/optim/lr_scheduler.py:136: UserWarning: Detected call of `lr_scheduler.step()` before `optimizer.step()`. In PyTorch 1.1.0 and later, you should call them in the opposite order: `optimizer.step()` before `lr_scheduler.step()`.  Failure to do this will result in PyTorch skipping the first value of the learning rate schedule. See more details at https://pytorch.org/docs/stable/optim.html#how-to-adjust-learning-rate\n",
            "  \"https://pytorch.org/docs/stable/optim.html#how-to-adjust-learning-rate\", UserWarning)\n",
            "\n",
            "  0%|          | 0/171 [00:00<?, ?it/s]\u001b[A\n",
            "  1%|          | 1/171 [03:04<8:43:31, 184.78s/it]\u001b[A\n",
            "  1%|          | 2/171 [03:05<6:05:06, 129.62s/it]\u001b[A\n",
            "  2%|▏         | 3/171 [03:06<4:14:48, 91.01s/it] \u001b[A\n",
            "  2%|▏         | 4/171 [03:07<2:58:11, 64.02s/it]\u001b[A\n",
            "  3%|▎         | 5/171 [03:08<2:04:45, 45.09s/it]\u001b[A\n",
            "  4%|▎         | 6/171 [03:09<1:27:30, 31.82s/it]\u001b[A\n",
            "  4%|▍         | 7/171 [03:10<1:01:42, 22.57s/it]\u001b[A\n",
            "  5%|▍         | 8/171 [03:11<43:36, 16.05s/it]  \u001b[A\n",
            "  5%|▌         | 9/171 [03:12<31:04, 11.51s/it]\u001b[A\n",
            "  6%|▌         | 10/171 [03:13<22:25,  8.35s/it]\u001b[A\n",
            "  6%|▋         | 11/171 [03:14<16:25,  6.16s/it]\u001b[A\n",
            "  7%|▋         | 12/171 [03:15<12:04,  4.56s/it]\u001b[A\n",
            "  8%|▊         | 13/171 [03:16<09:09,  3.48s/it]\u001b[A\n",
            "  8%|▊         | 14/171 [03:16<07:05,  2.71s/it]\u001b[A"
          ],
          "name": "stderr"
        },
        {
          "output_type": "error",
          "ename": "KeyboardInterrupt",
          "evalue": "ignored",
          "traceback": [
            "\u001b[0;31m---------------------------------------------------------------------------\u001b[0m",
            "\u001b[0;31mKeyboardInterrupt\u001b[0m                         Traceback (most recent call last)",
            "\u001b[0;32m<ipython-input-27-fd7a132945ea>\u001b[0m in \u001b[0;36m<module>\u001b[0;34m()\u001b[0m\n\u001b[0;32m----> 1\u001b[0;31m \u001b[0mtrain_model\u001b[0m\u001b[0;34m(\u001b[0m\u001b[0mmodel\u001b[0m\u001b[0;34m,\u001b[0m \u001b[0mloss\u001b[0m\u001b[0;34m,\u001b[0m \u001b[0moptimizer\u001b[0m\u001b[0;34m,\u001b[0m \u001b[0mscheduler\u001b[0m\u001b[0;34m,\u001b[0m \u001b[0mnum_epochs\u001b[0m\u001b[0;34m=\u001b[0m\u001b[0;36m60\u001b[0m\u001b[0;34m)\u001b[0m\u001b[0;34m;\u001b[0m\u001b[0;34m\u001b[0m\u001b[0;34m\u001b[0m\u001b[0m\n\u001b[0m",
            "\u001b[0;32m<ipython-input-25-2cb631a28649>\u001b[0m in \u001b[0;36mtrain_model\u001b[0;34m(model, loss, optimizer, scheduler, num_epochs)\u001b[0m\n\u001b[1;32m     18\u001b[0m             \u001b[0;31m# Iterate over data.\u001b[0m\u001b[0;34m\u001b[0m\u001b[0;34m\u001b[0m\u001b[0;34m\u001b[0m\u001b[0m\n\u001b[1;32m     19\u001b[0m             \u001b[0;32mfor\u001b[0m \u001b[0minputs\u001b[0m\u001b[0;34m,\u001b[0m \u001b[0mlabels\u001b[0m \u001b[0;32min\u001b[0m \u001b[0mtqdm\u001b[0m\u001b[0;34m(\u001b[0m\u001b[0mdataloader\u001b[0m\u001b[0;34m)\u001b[0m\u001b[0;34m:\u001b[0m\u001b[0;34m\u001b[0m\u001b[0;34m\u001b[0m\u001b[0m\n\u001b[0;32m---> 20\u001b[0;31m                 \u001b[0minputs\u001b[0m \u001b[0;34m=\u001b[0m \u001b[0minputs\u001b[0m\u001b[0;34m.\u001b[0m\u001b[0mto\u001b[0m\u001b[0;34m(\u001b[0m\u001b[0mdevice\u001b[0m\u001b[0;34m)\u001b[0m\u001b[0;34m\u001b[0m\u001b[0;34m\u001b[0m\u001b[0m\n\u001b[0m\u001b[1;32m     21\u001b[0m                 \u001b[0mlabels\u001b[0m \u001b[0;34m=\u001b[0m \u001b[0mlabels\u001b[0m\u001b[0;34m.\u001b[0m\u001b[0mto\u001b[0m\u001b[0;34m(\u001b[0m\u001b[0mdevice\u001b[0m\u001b[0;34m)\u001b[0m\u001b[0;34m\u001b[0m\u001b[0;34m\u001b[0m\u001b[0m\n\u001b[1;32m     22\u001b[0m \u001b[0;34m\u001b[0m\u001b[0m\n",
            "\u001b[0;31mKeyboardInterrupt\u001b[0m: "
          ]
        }
      ]
    },
    {
      "cell_type": "code",
      "metadata": {
        "id": "Mr81KRADPiWm"
      },
      "source": [
        "!mkdir /content/model/"
      ],
      "execution_count": null,
      "outputs": []
    },
    {
      "cell_type": "code",
      "metadata": {
        "id": "emrbNaGXfC-_"
      },
      "source": [
        ""
      ],
      "execution_count": null,
      "outputs": []
    },
    {
      "cell_type": "code",
      "metadata": {
        "id": "Odihg_uw0VZg"
      },
      "source": [
        "torch.save(model, \"/content/model/model.pth\")"
      ],
      "execution_count": null,
      "outputs": []
    },
    {
      "cell_type": "code",
      "metadata": {
        "colab": {
          "base_uri": "https://localhost:8080/",
          "height": 170
        },
        "id": "gmw2sO6K0YM0",
        "outputId": "5c61fb18-3430-4085-c353-cf0fe35652bf"
      },
      "source": [
        "import matplotlib.pyplot as plt\n",
        "import numpy as np\n",
        "\n",
        "# functions to show an image\n",
        "\n",
        "\n",
        "def imshow(img):\n",
        "    img = img/ 2 + 0.5     # unnormalize\n",
        "    npimg = img.numpy()\n",
        "    plt.imshow(np.transpose(npimg, (1, 2, 0)))\n",
        "    plt.show()\n",
        "\n",
        "\n",
        "# get some random training images\n",
        "dataiter = iter(val_dataloader)\n",
        "images, labels = dataiter.next()\n",
        "\n",
        "# show images\n",
        "imshow(torchvision.utils.make_grid(images[:4,:,:,:]))\n",
        "# print labels\n",
        "print(' '.join('%5s' % class_names[labels[j]] for j in range(4)))"
      ],
      "execution_count": null,
      "outputs": [
        {
          "output_type": "stream",
          "text": [
            "Clipping input data to the valid range for imshow with RGB data ([0..1] for floats or [0..255] for integers).\n"
          ],
          "name": "stderr"
        },
        {
          "output_type": "display_data",
          "data": {
            "image/png": "[encoded data removed]",
            "text/plain": [
              "<Figure size 432x288 with 1 Axes>"
            ]
          },
          "metadata": {
            "tags": []
          }
        },
        {
          "output_type": "stream",
          "text": [
            "    ы     а     к     щ\n"
          ],
          "name": "stdout"
        }
      ]
    }
  ]
}